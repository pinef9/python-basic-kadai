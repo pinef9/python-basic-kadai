{
  "nbformat": 4,
  "nbformat_minor": 0,
  "metadata": {
    "colab": {
      "provenance": []
    },
    "kernelspec": {
      "name": "python3",
      "display_name": "Python 3"
    },
    "language_info": {
      "name": "python"
    }
  },
  "cells": [
    {
      "cell_type": "code",
      "source": [
        "class Human:\n",
        "  def __init__(self, name, age):\n",
        "    self.name=name\n",
        "    self.age=age\n",
        "\n",
        "  def check_adult(self):\n",
        "    if self.age>=20:\n",
        "      return \"大人です。\"\n",
        "    else:\n",
        "      return \"大人ではありません。\"\n",
        "\n",
        "human01=Human(\"太郎\", 25)\n",
        "human02=Human(\"次郎\", 20)\n",
        "human03=Human(\"三郎\", 18)\n",
        "\n",
        "humans=[human01, human02, human03]\n",
        "\n",
        "for human in humans:\n",
        "  print(f\"{human.name}は{human.age}歳なので{human.check_adult()}\")\n",
        "\n",
        "\n",
        "\n",
        "\n",
        "\n"
      ],
      "metadata": {
        "colab": {
          "base_uri": "https://localhost:8080/"
        },
        "id": "kbLU4AECV2of",
        "outputId": "543bd89c-7d04-4338-8093-9575b8f147de"
      },
      "execution_count": 28,
      "outputs": [
        {
          "output_type": "stream",
          "name": "stdout",
          "text": [
            "太郎は25歳なので大人です。\n",
            "次郎は20歳なので大人です。\n",
            "三郎は18歳なので大人ではありません。\n"
          ]
        }
      ]
    }
  ]
}