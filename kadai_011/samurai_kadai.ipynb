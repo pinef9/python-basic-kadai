{
  "nbformat": 4,
  "nbformat_minor": 0,
  "metadata": {
    "colab": {
      "provenance": []
    },
    "kernelspec": {
      "name": "python3",
      "display_name": "Python 3"
    },
    "language_info": {
      "name": "python"
    }
  },
  "cells": [
    {
      "cell_type": "code",
      "source": [
        "array=[\"水\", \"金\", \"地\", \"火\", \"木\", \"土\", \"天\", \"海\", \"冥\"]\n",
        "\n",
        "for planet_a in array:\n",
        "  print(planet_a)\n",
        "\n",
        "i=0\n",
        "while i <= 8:\n",
        "  print(f\" {array[i]}\")\n",
        "  i=i+1\n",
        "\n",
        ""
      ],
      "metadata": {
        "colab": {
          "base_uri": "https://localhost:8080/"
        },
        "id": "JJypeEsRKxN4",
        "outputId": "21a2196e-c3db-42dd-fe1a-cb4d4a73ded4"
      },
      "execution_count": 11,
      "outputs": [
        {
          "output_type": "stream",
          "name": "stdout",
          "text": [
            "水\n",
            "金\n",
            "地\n",
            "火\n",
            "木\n",
            "土\n",
            "天\n",
            "海\n",
            "冥\n",
            " 水\n",
            " 金\n",
            " 地\n",
            " 火\n",
            " 木\n",
            " 土\n",
            " 天\n",
            " 海\n",
            " 冥\n"
          ]
        }
      ]
    }
  ]
}