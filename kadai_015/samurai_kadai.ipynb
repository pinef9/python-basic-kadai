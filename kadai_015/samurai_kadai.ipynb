{
  "nbformat": 4,
  "nbformat_minor": 0,
  "metadata": {
    "colab": {
      "provenance": []
    },
    "kernelspec": {
      "name": "python3",
      "display_name": "Python 3"
    },
    "language_info": {
      "name": "python"
    }
  },
  "cells": [
    {
      "cell_type": "code",
      "source": [
        "class Human:\n",
        "  def __init__(self, name, age):\n",
        "    self.name=name\n",
        "    self.age=age\n",
        "\n",
        "  def printinfo(self):\n",
        "    print(f\"{self.name}は{self.age}歳です\")\n",
        "\n",
        "human1 = Human(\"太郎\", \"30\")\n",
        "\n",
        "human1.printinfo()"
      ],
      "metadata": {
        "colab": {
          "base_uri": "https://localhost:8080/"
        },
        "id": "UcOKRBP3B_0G",
        "outputId": "f5a890a0-49cf-4809-c0c4-55ecf2b4f806"
      },
      "execution_count": 43,
      "outputs": [
        {
          "output_type": "stream",
          "name": "stdout",
          "text": [
            "太郎は30歳です\n"
          ]
        }
      ]
    }
  ]
}