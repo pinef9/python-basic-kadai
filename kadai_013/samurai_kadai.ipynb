{
  "nbformat": 4,
  "nbformat_minor": 0,
  "metadata": {
    "colab": {
      "provenance": []
    },
    "kernelspec": {
      "name": "python3",
      "display_name": "Python 3"
    },
    "language_info": {
      "name": "python"
    }
  },
  "cells": [
    {
      "cell_type": "code",
      "source": [
        "def calculate_tax_inc(price: int, sales_tax_rate: float)->float:\n",
        "  tax_inc= price + price * sales_tax_rate\n",
        "  return tax_inc\n",
        "\n",
        "x=calculate_tax_inc(500,0.1)\n",
        "print(f\"税込み価格は{x}円です。\")"
      ],
      "metadata": {
        "colab": {
          "base_uri": "https://localhost:8080/"
        },
        "id": "JJypeEsRKxN4",
        "outputId": "ddf699f9-581c-4d54-f51e-bac258eedef1"
      },
      "execution_count": 24,
      "outputs": [
        {
          "output_type": "stream",
          "name": "stdout",
          "text": [
            "税込み価格は550.0円です。\n"
          ]
        }
      ]
    },
    {
      "cell_type": "code",
      "source": [],
      "metadata": {
        "id": "kf9zJ2TPs7aj"
      },
      "execution_count": null,
      "outputs": []
    }
  ]
}