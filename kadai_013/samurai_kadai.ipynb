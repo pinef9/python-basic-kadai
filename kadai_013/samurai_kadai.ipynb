{
  "nbformat": 4,
  "nbformat_minor": 0,
  "metadata": {
    "colab": {
      "provenance": []
    },
    "kernelspec": {
      "name": "python3",
      "display_name": "Python 3"
    },
    "language_info": {
      "name": "python"
    }
  },
  "cells": [
    {
      "cell_type": "code",
      "source": [
        "def calculate_tax_inc(price: int, sales_tax_rate: float)->float:\n",
        "  tax_inc= price + price * sales_tax_rate\n",
        "  print(f\"税込み価格は{tax_inc}円です。\")\n",
        "\n",
        "calculate_tax_inc(500,0.1)"
      ],
      "metadata": {
        "colab": {
          "base_uri": "https://localhost:8080/"
        },
        "id": "JJypeEsRKxN4",
        "outputId": "0c1ad1e4-a36c-467a-e4e7-d7f3d16b8692"
      },
      "execution_count": 19,
      "outputs": [
        {
          "output_type": "stream",
          "name": "stdout",
          "text": [
            "税込み価格は550.0円です。\n"
          ]
        }
      ]
    }
  ]
}